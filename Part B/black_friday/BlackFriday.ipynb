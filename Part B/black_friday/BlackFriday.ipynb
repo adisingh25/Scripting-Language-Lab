{
 "cells": [
  {
   "cell_type": "code",
   "execution_count": 1,
   "id": "a61f1b54",
   "metadata": {},
   "outputs": [
    {
     "data": {
      "text/html": [
       "<div>\n",
       "<style scoped>\n",
       "    .dataframe tbody tr th:only-of-type {\n",
       "        vertical-align: middle;\n",
       "    }\n",
       "\n",
       "    .dataframe tbody tr th {\n",
       "        vertical-align: top;\n",
       "    }\n",
       "\n",
       "    .dataframe thead th {\n",
       "        text-align: right;\n",
       "    }\n",
       "</style>\n",
       "<table border=\"1\" class=\"dataframe\">\n",
       "  <thead>\n",
       "    <tr style=\"text-align: right;\">\n",
       "      <th></th>\n",
       "      <th>User_ID</th>\n",
       "      <th>Product_ID</th>\n",
       "      <th>Gender</th>\n",
       "      <th>Age</th>\n",
       "      <th>Occupation</th>\n",
       "      <th>City_Category</th>\n",
       "      <th>Stay_In_Current_City_Years</th>\n",
       "      <th>Marital_Status</th>\n",
       "      <th>Baseball_Caps</th>\n",
       "      <th>Wine_Tumblers</th>\n",
       "      <th>Pet_Raincoats</th>\n",
       "      <th>Purchase</th>\n",
       "    </tr>\n",
       "  </thead>\n",
       "  <tbody>\n",
       "    <tr>\n",
       "      <th>0</th>\n",
       "      <td>1000001</td>\n",
       "      <td>P00069042</td>\n",
       "      <td>F</td>\n",
       "      <td>0-17</td>\n",
       "      <td>10</td>\n",
       "      <td>A</td>\n",
       "      <td>2</td>\n",
       "      <td>0</td>\n",
       "      <td>3</td>\n",
       "      <td>NaN</td>\n",
       "      <td>NaN</td>\n",
       "      <td>8370</td>\n",
       "    </tr>\n",
       "    <tr>\n",
       "      <th>1</th>\n",
       "      <td>1000001</td>\n",
       "      <td>P00248942</td>\n",
       "      <td>F</td>\n",
       "      <td>0-17</td>\n",
       "      <td>10</td>\n",
       "      <td>A</td>\n",
       "      <td>2</td>\n",
       "      <td>0</td>\n",
       "      <td>1</td>\n",
       "      <td>6.0</td>\n",
       "      <td>14.0</td>\n",
       "      <td>15200</td>\n",
       "    </tr>\n",
       "    <tr>\n",
       "      <th>2</th>\n",
       "      <td>1000001</td>\n",
       "      <td>P00087842</td>\n",
       "      <td>F</td>\n",
       "      <td>0-17</td>\n",
       "      <td>10</td>\n",
       "      <td>A</td>\n",
       "      <td>2</td>\n",
       "      <td>0</td>\n",
       "      <td>12</td>\n",
       "      <td>NaN</td>\n",
       "      <td>NaN</td>\n",
       "      <td>1422</td>\n",
       "    </tr>\n",
       "    <tr>\n",
       "      <th>3</th>\n",
       "      <td>1000001</td>\n",
       "      <td>P00085442</td>\n",
       "      <td>F</td>\n",
       "      <td>0-17</td>\n",
       "      <td>10</td>\n",
       "      <td>NaN</td>\n",
       "      <td>2</td>\n",
       "      <td>0</td>\n",
       "      <td>12</td>\n",
       "      <td>14.0</td>\n",
       "      <td>5.0</td>\n",
       "      <td>1057</td>\n",
       "    </tr>\n",
       "    <tr>\n",
       "      <th>4</th>\n",
       "      <td>1000002</td>\n",
       "      <td>P00285442</td>\n",
       "      <td>M</td>\n",
       "      <td>55+</td>\n",
       "      <td>16</td>\n",
       "      <td>C</td>\n",
       "      <td>4+</td>\n",
       "      <td>0</td>\n",
       "      <td>8</td>\n",
       "      <td>NaN</td>\n",
       "      <td>NaN</td>\n",
       "      <td>7969</td>\n",
       "    </tr>\n",
       "  </tbody>\n",
       "</table>\n",
       "</div>"
      ],
      "text/plain": [
       "   User_ID Product_ID Gender   Age  Occupation City_Category  \\\n",
       "0  1000001  P00069042      F  0-17          10             A   \n",
       "1  1000001  P00248942      F  0-17          10             A   \n",
       "2  1000001  P00087842      F  0-17          10             A   \n",
       "3  1000001  P00085442      F  0-17          10           NaN   \n",
       "4  1000002  P00285442      M   55+          16             C   \n",
       "\n",
       "  Stay_In_Current_City_Years  Marital_Status  Baseball_Caps  Wine_Tumblers  \\\n",
       "0                          2               0              3            NaN   \n",
       "1                          2               0              1            6.0   \n",
       "2                          2               0             12            NaN   \n",
       "3                          2               0             12           14.0   \n",
       "4                         4+               0              8            NaN   \n",
       "\n",
       "   Pet_Raincoats  Purchase  \n",
       "0            NaN      8370  \n",
       "1           14.0     15200  \n",
       "2            NaN      1422  \n",
       "3            5.0      1057  \n",
       "4            NaN      7969  "
      ]
     },
     "execution_count": 1,
     "metadata": {},
     "output_type": "execute_result"
    }
   ],
   "source": [
    "import seaborn as sns\n",
    "import matplotlib.pyplot as plt\n",
    "import pandas as pd\n",
    "bf= pd.read_csv('blackfri.csv')\n",
    "bf.head()"
   ]
  },
  {
   "cell_type": "code",
   "execution_count": 2,
   "id": "03239798",
   "metadata": {},
   "outputs": [
    {
     "data": {
      "text/html": [
       "<div>\n",
       "<style scoped>\n",
       "    .dataframe tbody tr th:only-of-type {\n",
       "        vertical-align: middle;\n",
       "    }\n",
       "\n",
       "    .dataframe tbody tr th {\n",
       "        vertical-align: top;\n",
       "    }\n",
       "\n",
       "    .dataframe thead th {\n",
       "        text-align: right;\n",
       "    }\n",
       "</style>\n",
       "<table border=\"1\" class=\"dataframe\">\n",
       "  <thead>\n",
       "    <tr style=\"text-align: right;\">\n",
       "      <th></th>\n",
       "      <th>User_ID</th>\n",
       "      <th>Occupation</th>\n",
       "      <th>Marital_Status</th>\n",
       "      <th>Baseball_Caps</th>\n",
       "      <th>Wine_Tumblers</th>\n",
       "      <th>Pet_Raincoats</th>\n",
       "      <th>Purchase</th>\n",
       "    </tr>\n",
       "  </thead>\n",
       "  <tbody>\n",
       "    <tr>\n",
       "      <th>count</th>\n",
       "      <td>2.100000e+01</td>\n",
       "      <td>21.000000</td>\n",
       "      <td>21.000000</td>\n",
       "      <td>21.000000</td>\n",
       "      <td>15.000000</td>\n",
       "      <td>12.000000</td>\n",
       "      <td>21.000000</td>\n",
       "    </tr>\n",
       "    <tr>\n",
       "      <th>mean</th>\n",
       "      <td>1.000004e+06</td>\n",
       "      <td>12.047619</td>\n",
       "      <td>0.523810</td>\n",
       "      <td>4.428571</td>\n",
       "      <td>9.133333</td>\n",
       "      <td>11.416667</td>\n",
       "      <td>9912.809524</td>\n",
       "    </tr>\n",
       "    <tr>\n",
       "      <th>std</th>\n",
       "      <td>2.226464e+00</td>\n",
       "      <td>5.444963</td>\n",
       "      <td>0.511766</td>\n",
       "      <td>3.668398</td>\n",
       "      <td>5.111146</td>\n",
       "      <td>5.017394</td>\n",
       "      <td>5785.918774</td>\n",
       "    </tr>\n",
       "    <tr>\n",
       "      <th>min</th>\n",
       "      <td>1.000001e+06</td>\n",
       "      <td>1.000000</td>\n",
       "      <td>0.000000</td>\n",
       "      <td>1.000000</td>\n",
       "      <td>2.000000</td>\n",
       "      <td>4.000000</td>\n",
       "      <td>1057.000000</td>\n",
       "    </tr>\n",
       "    <tr>\n",
       "      <th>25%</th>\n",
       "      <td>1.000003e+06</td>\n",
       "      <td>9.000000</td>\n",
       "      <td>0.000000</td>\n",
       "      <td>1.000000</td>\n",
       "      <td>5.000000</td>\n",
       "      <td>5.000000</td>\n",
       "      <td>5378.000000</td>\n",
       "    </tr>\n",
       "    <tr>\n",
       "      <th>50%</th>\n",
       "      <td>1.000005e+06</td>\n",
       "      <td>10.000000</td>\n",
       "      <td>1.000000</td>\n",
       "      <td>4.000000</td>\n",
       "      <td>8.000000</td>\n",
       "      <td>14.000000</td>\n",
       "      <td>8584.000000</td>\n",
       "    </tr>\n",
       "    <tr>\n",
       "      <th>75%</th>\n",
       "      <td>1.000006e+06</td>\n",
       "      <td>16.000000</td>\n",
       "      <td>1.000000</td>\n",
       "      <td>8.000000</td>\n",
       "      <td>14.000000</td>\n",
       "      <td>14.250000</td>\n",
       "      <td>15227.000000</td>\n",
       "    </tr>\n",
       "    <tr>\n",
       "      <th>max</th>\n",
       "      <td>1.000008e+06</td>\n",
       "      <td>20.000000</td>\n",
       "      <td>1.000000</td>\n",
       "      <td>12.000000</td>\n",
       "      <td>16.000000</td>\n",
       "      <td>17.000000</td>\n",
       "      <td>19614.000000</td>\n",
       "    </tr>\n",
       "  </tbody>\n",
       "</table>\n",
       "</div>"
      ],
      "text/plain": [
       "            User_ID  Occupation  Marital_Status  Baseball_Caps  Wine_Tumblers  \\\n",
       "count  2.100000e+01   21.000000       21.000000      21.000000      15.000000   \n",
       "mean   1.000004e+06   12.047619        0.523810       4.428571       9.133333   \n",
       "std    2.226464e+00    5.444963        0.511766       3.668398       5.111146   \n",
       "min    1.000001e+06    1.000000        0.000000       1.000000       2.000000   \n",
       "25%    1.000003e+06    9.000000        0.000000       1.000000       5.000000   \n",
       "50%    1.000005e+06   10.000000        1.000000       4.000000       8.000000   \n",
       "75%    1.000006e+06   16.000000        1.000000       8.000000      14.000000   \n",
       "max    1.000008e+06   20.000000        1.000000      12.000000      16.000000   \n",
       "\n",
       "       Pet_Raincoats      Purchase  \n",
       "count      12.000000     21.000000  \n",
       "mean       11.416667   9912.809524  \n",
       "std         5.017394   5785.918774  \n",
       "min         4.000000   1057.000000  \n",
       "25%         5.000000   5378.000000  \n",
       "50%        14.000000   8584.000000  \n",
       "75%        14.250000  15227.000000  \n",
       "max        17.000000  19614.000000  "
      ]
     },
     "execution_count": 2,
     "metadata": {},
     "output_type": "execute_result"
    }
   ],
   "source": [
    "bf.describe()"
   ]
  },
  {
   "cell_type": "code",
   "execution_count": 3,
   "id": "4eefd57e",
   "metadata": {},
   "outputs": [
    {
     "name": "stdout",
     "output_type": "stream",
     "text": [
      "======Data Headers After Dropping Columns==================\n",
      "  Gender   Age  Occupation City_Category  Marital_Status  Baseball_Caps  \\\n",
      "0      F  0-17          10             A               0              3   \n",
      "1      F  0-17          10             A               0              1   \n",
      "2      F  0-17          10             A               0             12   \n",
      "3      F  0-17          10           NaN               0             12   \n",
      "4      M   55+          16             C               0              8   \n",
      "\n",
      "   Wine_Tumblers  Pet_Raincoats  Purchase  \n",
      "0            NaN            NaN      8370  \n",
      "1            6.0           14.0     15200  \n",
      "2            NaN            NaN      1422  \n",
      "3           14.0            5.0      1057  \n",
      "4            NaN            NaN      7969  \n"
     ]
    }
   ],
   "source": [
    "print(\"======Data Headers After Dropping Columns==================\")\n",
    "bf.drop(['User_ID','Product_ID', 'Stay_In_Current_City_Years'], axis=1, inplace=True)\n",
    "print(bf.head(5))"
   ]
  },
  {
   "cell_type": "code",
   "execution_count": 4,
   "id": "31194420",
   "metadata": {},
   "outputs": [
    {
     "name": "stdout",
     "output_type": "stream",
     "text": [
      "======Data Headers After Filling with default value for City Column =======\n",
      "  Gender   Age  Occupation City_Category  Marital_Status  Baseball_Caps  \\\n",
      "0      F  0-17          10             A               0              3   \n",
      "1      F  0-17          10             A               0              1   \n",
      "2      F  0-17          10             A               0             12   \n",
      "3      F  0-17          10             B               0             12   \n",
      "4      M   55+          16             C               0              8   \n",
      "\n",
      "   Wine_Tumblers  Pet_Raincoats  Purchase  \n",
      "0            NaN            NaN      8370  \n",
      "1            6.0           14.0     15200  \n",
      "2            NaN            NaN      1422  \n",
      "3           14.0            5.0      1057  \n",
      "4            NaN            NaN      7969  \n"
     ]
    }
   ],
   "source": [
    "bf[\"City_Category\"] = bf[\"City_Category\"].fillna(\"B\")\n",
    "print(\"======Data Headers After Filling with default value for City Column =======\")\n",
    "print(bf.head(5))"
   ]
  },
  {
   "cell_type": "code",
   "execution_count": 5,
   "id": "de2ed8c9",
   "metadata": {},
   "outputs": [
    {
     "data": {
      "image/png": "[encoded data removed]",
      "text/plain": [
       "<Figure size 640x480 with 1 Axes>"
      ]
     },
     "metadata": {},
     "output_type": "display_data"
    }
   ],
   "source": [
    "sns.countplot(x=\"Baseball_Caps\",hue=\"Gender\",palette=\"Set3\",data=bf)\n",
    "plt.show()\n"
   ]
  },
  {
   "cell_type": "code",
   "execution_count": 6,
   "id": "44f5f178",
   "metadata": {},
   "outputs": [
    {
     "data": {
      "image/png": "[encoded data removed]",
      "text/plain": [
       "<Figure size 640x480 with 1 Axes>"
      ]
     },
     "metadata": {},
     "output_type": "display_data"
    }
   ],
   "source": [
    "sns.countplot(x=\"Wine_Tumblers\",hue=\"Gender\",palette=\"Set1\",data=bf)\n",
    "plt.show()"
   ]
  },
  {
   "cell_type": "code",
   "execution_count": 7,
   "id": "d4154c22",
   "metadata": {},
   "outputs": [
    {
     "data": {
      "image/png": "[encoded data removed]",
      "text/plain": [
       "<Figure size 640x480 with 1 Axes>"
      ]
     },
     "metadata": {},
     "output_type": "display_data"
    }
   ],
   "source": [
    "sns.countplot(x=\"City_Category\",hue=\"Gender\",palette=\"bright\",data=bf)\n",
    "plt.show()"
   ]
  },
  {
   "cell_type": "code",
   "execution_count": null,
   "id": "e3764ea7",
   "metadata": {},
   "outputs": [],
   "source": []
  }
 ],
 "metadata": {
  "kernelspec": {
   "display_name": "Python 3 (ipykernel)",
   "language": "python",
   "name": "python3"
  },
  "language_info": {
   "codemirror_mode": {
    "name": "ipython",
    "version": 3
   },
   "file_extension": ".py",
   "mimetype": "text/x-python",
   "name": "python",
   "nbconvert_exporter": "python",
   "pygments_lexer": "ipython3",
   "version": "3.10.4"
  }
 },
 "nbformat": 4,
 "nbformat_minor": 5
}
